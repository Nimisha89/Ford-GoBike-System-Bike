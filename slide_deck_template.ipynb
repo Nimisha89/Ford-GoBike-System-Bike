{
 "cells": [
  {
   "cell_type": "markdown",
   "metadata": {
    "slideshow": {
     "slide_type": "skip"
    }
   },
   "source": [
    "# Investigation of Ford GoBike's trip data"
   ]
  },
  {
   "cell_type": "markdown",
   "metadata": {
    "slideshow": {
     "slide_type": "skip"
    }
   },
   "source": [
    "## Introduction\n",
    "\n",
    "\n",
    "### About the Dataset\n",
    "This data set includes information about individual rides made in a bike-sharing system covering the greater San Francisco Bay area.\n",
    "\n",
    "Note that this dataset will require some data wrangling in order to make it tidy for analysis. There are multiple cities covered by the linked system, and multiple data files will need to be joined together if a full year’s coverage is desired.\n",
    "\n"
   ]
  },
  {
   "cell_type": "code",
   "execution_count": 2,
   "metadata": {
    "slideshow": {
     "slide_type": "skip"
    }
   },
   "outputs": [],
   "source": [
    "import numpy as np\n",
    "import pandas as pd\n",
    "import matplotlib.pyplot as plt\n",
    "import seaborn as sb\n",
    "import os\n",
    "import glob\n",
    "\n",
    "%matplotlib inline"
   ]
  },
  {
   "cell_type": "code",
   "execution_count": 3,
   "metadata": {
    "slideshow": {
     "slide_type": "skip"
    }
   },
   "outputs": [
    {
     "data": {
      "text/html": [
       "<div>\n",
       "<style scoped>\n",
       "    .dataframe tbody tr th:only-of-type {\n",
       "        vertical-align: middle;\n",
       "    }\n",
       "\n",
       "    .dataframe tbody tr th {\n",
       "        vertical-align: top;\n",
       "    }\n",
       "\n",
       "    .dataframe thead th {\n",
       "        text-align: right;\n",
       "    }\n",
       "</style>\n",
       "<table border=\"1\" class=\"dataframe\">\n",
       "  <thead>\n",
       "    <tr style=\"text-align: right;\">\n",
       "      <th></th>\n",
       "      <th>duration_sec</th>\n",
       "      <th>start_time</th>\n",
       "      <th>end_time</th>\n",
       "      <th>start_station_id</th>\n",
       "      <th>start_station_name</th>\n",
       "      <th>start_station_latitude</th>\n",
       "      <th>start_station_longitude</th>\n",
       "      <th>end_station_id</th>\n",
       "      <th>end_station_name</th>\n",
       "      <th>end_station_latitude</th>\n",
       "      <th>end_station_longitude</th>\n",
       "      <th>bike_id</th>\n",
       "      <th>user_type</th>\n",
       "      <th>rental_access_method</th>\n",
       "    </tr>\n",
       "  </thead>\n",
       "  <tbody>\n",
       "    <tr>\n",
       "      <th>0</th>\n",
       "      <td>35187</td>\n",
       "      <td>2020-03-31 20:42:10.0790</td>\n",
       "      <td>2020-04-01 06:28:37.8440</td>\n",
       "      <td>462.0</td>\n",
       "      <td>Cruise Terminal at Pier 27</td>\n",
       "      <td>37.804648</td>\n",
       "      <td>-122.402087</td>\n",
       "      <td>24.0</td>\n",
       "      <td>Spear St at Folsom St</td>\n",
       "      <td>37.789677</td>\n",
       "      <td>-122.390428</td>\n",
       "      <td>10982</td>\n",
       "      <td>Customer</td>\n",
       "      <td>NaN</td>\n",
       "    </tr>\n",
       "    <tr>\n",
       "      <th>1</th>\n",
       "      <td>14568</td>\n",
       "      <td>2020-03-31 22:45:25.5010</td>\n",
       "      <td>2020-04-01 02:48:13.7730</td>\n",
       "      <td>42.0</td>\n",
       "      <td>San Francisco City Hall (Polk St at Grove St)</td>\n",
       "      <td>37.778650</td>\n",
       "      <td>-122.418230</td>\n",
       "      <td>370.0</td>\n",
       "      <td>Jones St at Post St</td>\n",
       "      <td>37.787327</td>\n",
       "      <td>-122.413278</td>\n",
       "      <td>12617</td>\n",
       "      <td>Customer</td>\n",
       "      <td>NaN</td>\n",
       "    </tr>\n",
       "    <tr>\n",
       "      <th>2</th>\n",
       "      <td>35990</td>\n",
       "      <td>2020-03-31 15:08:22.3310</td>\n",
       "      <td>2020-04-01 01:08:12.9900</td>\n",
       "      <td>391.0</td>\n",
       "      <td>1st St at Younger Ave</td>\n",
       "      <td>37.355030</td>\n",
       "      <td>-121.904436</td>\n",
       "      <td>397.0</td>\n",
       "      <td>Gish Rd at 1st St</td>\n",
       "      <td>37.361867</td>\n",
       "      <td>-121.909315</td>\n",
       "      <td>12812</td>\n",
       "      <td>Customer</td>\n",
       "      <td>NaN</td>\n",
       "    </tr>\n",
       "    <tr>\n",
       "      <th>3</th>\n",
       "      <td>1068</td>\n",
       "      <td>2020-03-31 23:55:00.4260</td>\n",
       "      <td>2020-04-01 00:12:49.0200</td>\n",
       "      <td>456.0</td>\n",
       "      <td>Arguello Blvd at Geary Blvd</td>\n",
       "      <td>37.781468</td>\n",
       "      <td>-122.458806</td>\n",
       "      <td>107.0</td>\n",
       "      <td>17th St at Dolores St</td>\n",
       "      <td>37.763015</td>\n",
       "      <td>-122.426497</td>\n",
       "      <td>12955</td>\n",
       "      <td>Customer</td>\n",
       "      <td>NaN</td>\n",
       "    </tr>\n",
       "    <tr>\n",
       "      <th>4</th>\n",
       "      <td>3300</td>\n",
       "      <td>2020-03-31 23:00:55.6410</td>\n",
       "      <td>2020-03-31 23:55:56.6110</td>\n",
       "      <td>6.0</td>\n",
       "      <td>The Embarcadero at Sansome St</td>\n",
       "      <td>37.804770</td>\n",
       "      <td>-122.403234</td>\n",
       "      <td>24.0</td>\n",
       "      <td>Spear St at Folsom St</td>\n",
       "      <td>37.789677</td>\n",
       "      <td>-122.390428</td>\n",
       "      <td>13050</td>\n",
       "      <td>Customer</td>\n",
       "      <td>NaN</td>\n",
       "    </tr>\n",
       "  </tbody>\n",
       "</table>\n",
       "</div>"
      ],
      "text/plain": [
       "   duration_sec                start_time                  end_time  \\\n",
       "0         35187  2020-03-31 20:42:10.0790  2020-04-01 06:28:37.8440   \n",
       "1         14568  2020-03-31 22:45:25.5010  2020-04-01 02:48:13.7730   \n",
       "2         35990  2020-03-31 15:08:22.3310  2020-04-01 01:08:12.9900   \n",
       "3          1068  2020-03-31 23:55:00.4260  2020-04-01 00:12:49.0200   \n",
       "4          3300  2020-03-31 23:00:55.6410  2020-03-31 23:55:56.6110   \n",
       "\n",
       "   start_station_id                             start_station_name  \\\n",
       "0             462.0                     Cruise Terminal at Pier 27   \n",
       "1              42.0  San Francisco City Hall (Polk St at Grove St)   \n",
       "2             391.0                          1st St at Younger Ave   \n",
       "3             456.0                    Arguello Blvd at Geary Blvd   \n",
       "4               6.0                  The Embarcadero at Sansome St   \n",
       "\n",
       "   start_station_latitude  start_station_longitude  end_station_id  \\\n",
       "0               37.804648              -122.402087            24.0   \n",
       "1               37.778650              -122.418230           370.0   \n",
       "2               37.355030              -121.904436           397.0   \n",
       "3               37.781468              -122.458806           107.0   \n",
       "4               37.804770              -122.403234            24.0   \n",
       "\n",
       "        end_station_name  end_station_latitude  end_station_longitude  \\\n",
       "0  Spear St at Folsom St             37.789677            -122.390428   \n",
       "1    Jones St at Post St             37.787327            -122.413278   \n",
       "2      Gish Rd at 1st St             37.361867            -121.909315   \n",
       "3  17th St at Dolores St             37.763015            -122.426497   \n",
       "4  Spear St at Folsom St             37.789677            -122.390428   \n",
       "\n",
       "   bike_id user_type rental_access_method  \n",
       "0    10982  Customer                  NaN  \n",
       "1    12617  Customer                  NaN  \n",
       "2    12812  Customer                  NaN  \n",
       "3    12955  Customer                  NaN  \n",
       "4    13050  Customer                  NaN  "
      ]
     },
     "execution_count": 3,
     "metadata": {},
     "output_type": "execute_result"
    }
   ],
   "source": [
    "df = pd.read_csv('baywheels.csv')\n",
    "df.head()"
   ]
  },
  {
   "cell_type": "code",
   "execution_count": 4,
   "metadata": {
    "scrolled": true,
    "slideshow": {
     "slide_type": "skip"
    }
   },
   "outputs": [
    {
     "data": {
      "text/html": [
       "<div>\n",
       "<style scoped>\n",
       "    .dataframe tbody tr th:only-of-type {\n",
       "        vertical-align: middle;\n",
       "    }\n",
       "\n",
       "    .dataframe tbody tr th {\n",
       "        vertical-align: top;\n",
       "    }\n",
       "\n",
       "    .dataframe thead th {\n",
       "        text-align: right;\n",
       "    }\n",
       "</style>\n",
       "<table border=\"1\" class=\"dataframe\">\n",
       "  <thead>\n",
       "    <tr style=\"text-align: right;\">\n",
       "      <th></th>\n",
       "      <th>duration_sec</th>\n",
       "      <th>start_station_id</th>\n",
       "      <th>start_station_latitude</th>\n",
       "      <th>start_station_longitude</th>\n",
       "      <th>end_station_id</th>\n",
       "      <th>end_station_latitude</th>\n",
       "      <th>end_station_longitude</th>\n",
       "      <th>bike_id</th>\n",
       "    </tr>\n",
       "  </thead>\n",
       "  <tbody>\n",
       "    <tr>\n",
       "      <th>count</th>\n",
       "      <td>176799.000000</td>\n",
       "      <td>110696.000000</td>\n",
       "      <td>176799.000000</td>\n",
       "      <td>176799.000000</td>\n",
       "      <td>111097.000000</td>\n",
       "      <td>176799.000000</td>\n",
       "      <td>176799.000000</td>\n",
       "      <td>176799.000000</td>\n",
       "    </tr>\n",
       "    <tr>\n",
       "      <th>mean</th>\n",
       "      <td>861.590156</td>\n",
       "      <td>185.082261</td>\n",
       "      <td>37.732506</td>\n",
       "      <td>-122.339595</td>\n",
       "      <td>179.244228</td>\n",
       "      <td>37.731290</td>\n",
       "      <td>-122.335029</td>\n",
       "      <td>332033.876114</td>\n",
       "    </tr>\n",
       "    <tr>\n",
       "      <th>std</th>\n",
       "      <td>1528.143090</td>\n",
       "      <td>154.647521</td>\n",
       "      <td>0.170476</td>\n",
       "      <td>0.336403</td>\n",
       "      <td>153.858017</td>\n",
       "      <td>0.278159</td>\n",
       "      <td>0.788013</td>\n",
       "      <td>310588.686471</td>\n",
       "    </tr>\n",
       "    <tr>\n",
       "      <th>min</th>\n",
       "      <td>60.000000</td>\n",
       "      <td>3.000000</td>\n",
       "      <td>0.000000</td>\n",
       "      <td>-122.513814</td>\n",
       "      <td>3.000000</td>\n",
       "      <td>0.000000</td>\n",
       "      <td>-122.529747</td>\n",
       "      <td>17.000000</td>\n",
       "    </tr>\n",
       "    <tr>\n",
       "      <th>25%</th>\n",
       "      <td>374.000000</td>\n",
       "      <td>58.000000</td>\n",
       "      <td>37.763708</td>\n",
       "      <td>-122.421339</td>\n",
       "      <td>53.000000</td>\n",
       "      <td>37.763848</td>\n",
       "      <td>-122.420377</td>\n",
       "      <td>11695.000000</td>\n",
       "    </tr>\n",
       "    <tr>\n",
       "      <th>50%</th>\n",
       "      <td>602.000000</td>\n",
       "      <td>125.000000</td>\n",
       "      <td>37.776598</td>\n",
       "      <td>-122.403969</td>\n",
       "      <td>121.000000</td>\n",
       "      <td>37.776598</td>\n",
       "      <td>-122.403234</td>\n",
       "      <td>299042.000000</td>\n",
       "    </tr>\n",
       "    <tr>\n",
       "      <th>75%</th>\n",
       "      <td>963.000000</td>\n",
       "      <td>321.000000</td>\n",
       "      <td>37.789677</td>\n",
       "      <td>-122.390648</td>\n",
       "      <td>309.000000</td>\n",
       "      <td>37.789747</td>\n",
       "      <td>-122.390648</td>\n",
       "      <td>551560.000000</td>\n",
       "    </tr>\n",
       "    <tr>\n",
       "      <th>max</th>\n",
       "      <td>84450.000000</td>\n",
       "      <td>521.000000</td>\n",
       "      <td>37.880222</td>\n",
       "      <td>0.000000</td>\n",
       "      <td>521.000000</td>\n",
       "      <td>37.995942</td>\n",
       "      <td>0.000000</td>\n",
       "      <td>999960.000000</td>\n",
       "    </tr>\n",
       "  </tbody>\n",
       "</table>\n",
       "</div>"
      ],
      "text/plain": [
       "        duration_sec  start_station_id  start_station_latitude  \\\n",
       "count  176799.000000     110696.000000           176799.000000   \n",
       "mean      861.590156        185.082261               37.732506   \n",
       "std      1528.143090        154.647521                0.170476   \n",
       "min        60.000000          3.000000                0.000000   \n",
       "25%       374.000000         58.000000               37.763708   \n",
       "50%       602.000000        125.000000               37.776598   \n",
       "75%       963.000000        321.000000               37.789677   \n",
       "max     84450.000000        521.000000               37.880222   \n",
       "\n",
       "       start_station_longitude  end_station_id  end_station_latitude  \\\n",
       "count            176799.000000   111097.000000         176799.000000   \n",
       "mean               -122.339595      179.244228             37.731290   \n",
       "std                   0.336403      153.858017              0.278159   \n",
       "min                -122.513814        3.000000              0.000000   \n",
       "25%                -122.421339       53.000000             37.763848   \n",
       "50%                -122.403969      121.000000             37.776598   \n",
       "75%                -122.390648      309.000000             37.789747   \n",
       "max                   0.000000      521.000000             37.995942   \n",
       "\n",
       "       end_station_longitude        bike_id  \n",
       "count          176799.000000  176799.000000  \n",
       "mean             -122.335029  332033.876114  \n",
       "std                 0.788013  310588.686471  \n",
       "min              -122.529747      17.000000  \n",
       "25%              -122.420377   11695.000000  \n",
       "50%              -122.403234  299042.000000  \n",
       "75%              -122.390648  551560.000000  \n",
       "max                 0.000000  999960.000000  "
      ]
     },
     "execution_count": 4,
     "metadata": {},
     "output_type": "execute_result"
    }
   ],
   "source": [
    "# I am computing the summary of statistics pertaining to the DataFrame columns\n",
    "df.describe()"
   ]
  },
  {
   "cell_type": "code",
   "execution_count": 5,
   "metadata": {
    "slideshow": {
     "slide_type": "skip"
    }
   },
   "outputs": [
    {
     "name": "stdout",
     "output_type": "stream",
     "text": [
      "<class 'pandas.core.frame.DataFrame'>\n",
      "RangeIndex: 176799 entries, 0 to 176798\n",
      "Data columns (total 14 columns):\n",
      " #   Column                   Non-Null Count   Dtype  \n",
      "---  ------                   --------------   -----  \n",
      " 0   duration_sec             176799 non-null  int64  \n",
      " 1   start_time               176799 non-null  object \n",
      " 2   end_time                 176799 non-null  object \n",
      " 3   start_station_id         110696 non-null  float64\n",
      " 4   start_station_name       111349 non-null  object \n",
      " 5   start_station_latitude   176799 non-null  float64\n",
      " 6   start_station_longitude  176799 non-null  float64\n",
      " 7   end_station_id           111097 non-null  float64\n",
      " 8   end_station_name         111794 non-null  object \n",
      " 9   end_station_latitude     176799 non-null  float64\n",
      " 10  end_station_longitude    176799 non-null  float64\n",
      " 11  bike_id                  176799 non-null  int64  \n",
      " 12  user_type                176799 non-null  object \n",
      " 13  rental_access_method     114269 non-null  object \n",
      "dtypes: float64(6), int64(2), object(6)\n",
      "memory usage: 18.9+ MB\n",
      "None\n"
     ]
    }
   ],
   "source": [
    "# printing the number of entries that are present in respective columns\n",
    "print(df.info())"
   ]
  },
  {
   "cell_type": "code",
   "execution_count": 6,
   "metadata": {
    "slideshow": {
     "slide_type": "skip"
    }
   },
   "outputs": [
    {
     "data": {
      "text/plain": [
       "duration_sec                 5793\n",
       "start_time                 171095\n",
       "end_time                   171051\n",
       "start_station_id              443\n",
       "start_station_name            447\n",
       "start_station_latitude      61656\n",
       "start_station_longitude     62454\n",
       "end_station_id                443\n",
       "end_station_name              447\n",
       "end_station_latitude        61440\n",
       "end_station_longitude       62292\n",
       "bike_id                      8430\n",
       "user_type                       2\n",
       "rental_access_method            2\n",
       "dtype: int64"
      ]
     },
     "execution_count": 6,
     "metadata": {},
     "output_type": "execute_result"
    }
   ],
   "source": [
    "# using nunique function to find unique values in each column\n",
    "df.nunique()"
   ]
  },
  {
   "cell_type": "code",
   "execution_count": 7,
   "metadata": {
    "slideshow": {
     "slide_type": "skip"
    }
   },
   "outputs": [
    {
     "data": {
      "text/plain": [
       "duration_sec                   0\n",
       "start_time                     0\n",
       "end_time                       0\n",
       "start_station_id           66103\n",
       "start_station_name         65450\n",
       "start_station_latitude         0\n",
       "start_station_longitude        0\n",
       "end_station_id             65702\n",
       "end_station_name           65005\n",
       "end_station_latitude           0\n",
       "end_station_longitude          0\n",
       "bike_id                        0\n",
       "user_type                      0\n",
       "rental_access_method       62530\n",
       "dtype: int64"
      ]
     },
     "execution_count": 7,
     "metadata": {},
     "output_type": "execute_result"
    }
   ],
   "source": [
    "# checking for null values in the columns\n",
    "df.isnull().sum()"
   ]
  },
  {
   "cell_type": "code",
   "execution_count": 8,
   "metadata": {
    "slideshow": {
     "slide_type": "skip"
    }
   },
   "outputs": [
    {
     "data": {
      "text/plain": [
       "Index(['duration_sec', 'start_time', 'end_time', 'start_station_id',\n",
       "       'start_station_name', 'start_station_latitude',\n",
       "       'start_station_longitude', 'end_station_id', 'end_station_name',\n",
       "       'end_station_latitude', 'end_station_longitude', 'bike_id', 'user_type',\n",
       "       'rental_access_method'],\n",
       "      dtype='object')"
      ]
     },
     "execution_count": 8,
     "metadata": {},
     "output_type": "execute_result"
    }
   ],
   "source": [
    "#Showing columns name\n",
    "df.columns"
   ]
  },
  {
   "cell_type": "code",
   "execution_count": 9,
   "metadata": {
    "slideshow": {
     "slide_type": "skip"
    }
   },
   "outputs": [
    {
     "data": {
      "text/plain": [
       "0"
      ]
     },
     "execution_count": 9,
     "metadata": {},
     "output_type": "execute_result"
    }
   ],
   "source": [
    "# looking for duplicate values in the dataset using duplicate function of pandas library\n",
    "df.duplicated().sum()"
   ]
  },
  {
   "cell_type": "code",
   "execution_count": 10,
   "metadata": {
    "slideshow": {
     "slide_type": "skip"
    }
   },
   "outputs": [
    {
     "name": "stdout",
     "output_type": "stream",
     "text": [
      "Subscriber    96262\n",
      "Customer      80537\n",
      "Name: user_type, dtype: int64\n",
      "\n",
      "app        105515\n",
      "clipper      8754\n",
      "Name: rental_access_method, dtype: int64\n"
     ]
    }
   ],
   "source": [
    "print(df.user_type.value_counts())\n",
    "print()\n",
    "print(df.rental_access_method.value_counts())"
   ]
  },
  {
   "cell_type": "markdown",
   "metadata": {
    "slideshow": {
     "slide_type": "skip"
    }
   },
   "source": [
    "## Cleaning Data"
   ]
  },
  {
   "cell_type": "markdown",
   "metadata": {
    "slideshow": {
     "slide_type": "skip"
    }
   },
   "source": [
    "### Define\n",
    "\n",
    "Droping all the null values from the dataframe reseting it's index by using reset_index"
   ]
  },
  {
   "cell_type": "code",
   "execution_count": 11,
   "metadata": {
    "slideshow": {
     "slide_type": "skip"
    }
   },
   "outputs": [],
   "source": [
    "# using dropna to drop all columns having null values\n",
    "df.dropna(inplace=True)\n",
    "df.reset_index(inplace=True, drop=True)"
   ]
  },
  {
   "cell_type": "markdown",
   "metadata": {
    "slideshow": {
     "slide_type": "skip"
    }
   },
   "source": [
    "After dropping and reseting the index, I am printing my dataframe to check what I intended to do has been successfully carried out or not"
   ]
  },
  {
   "cell_type": "code",
   "execution_count": 12,
   "metadata": {
    "slideshow": {
     "slide_type": "skip"
    }
   },
   "outputs": [
    {
     "data": {
      "text/html": [
       "<div>\n",
       "<style scoped>\n",
       "    .dataframe tbody tr th:only-of-type {\n",
       "        vertical-align: middle;\n",
       "    }\n",
       "\n",
       "    .dataframe tbody tr th {\n",
       "        vertical-align: top;\n",
       "    }\n",
       "\n",
       "    .dataframe thead th {\n",
       "        text-align: right;\n",
       "    }\n",
       "</style>\n",
       "<table border=\"1\" class=\"dataframe\">\n",
       "  <thead>\n",
       "    <tr style=\"text-align: right;\">\n",
       "      <th></th>\n",
       "      <th>duration_sec</th>\n",
       "      <th>start_time</th>\n",
       "      <th>end_time</th>\n",
       "      <th>start_station_id</th>\n",
       "      <th>start_station_name</th>\n",
       "      <th>start_station_latitude</th>\n",
       "      <th>start_station_longitude</th>\n",
       "      <th>end_station_id</th>\n",
       "      <th>end_station_name</th>\n",
       "      <th>end_station_latitude</th>\n",
       "      <th>end_station_longitude</th>\n",
       "      <th>bike_id</th>\n",
       "      <th>user_type</th>\n",
       "      <th>rental_access_method</th>\n",
       "    </tr>\n",
       "  </thead>\n",
       "  <tbody>\n",
       "    <tr>\n",
       "      <th>0</th>\n",
       "      <td>1772</td>\n",
       "      <td>2020-03-31 15:23:58</td>\n",
       "      <td>2020-03-31 15:53:30</td>\n",
       "      <td>473.0</td>\n",
       "      <td>Willow St at Blewett Ave</td>\n",
       "      <td>37.309014</td>\n",
       "      <td>-121.900011</td>\n",
       "      <td>473.0</td>\n",
       "      <td>Willow St at Blewett Ave</td>\n",
       "      <td>37.309014</td>\n",
       "      <td>-121.900011</td>\n",
       "      <td>480691</td>\n",
       "      <td>Subscriber</td>\n",
       "      <td>app</td>\n",
       "    </tr>\n",
       "    <tr>\n",
       "      <th>1</th>\n",
       "      <td>737</td>\n",
       "      <td>2020-03-26 16:24:05</td>\n",
       "      <td>2020-03-26 16:36:23</td>\n",
       "      <td>473.0</td>\n",
       "      <td>Willow St at Blewett Ave</td>\n",
       "      <td>37.309014</td>\n",
       "      <td>-121.900011</td>\n",
       "      <td>309.0</td>\n",
       "      <td>San Jose City Hall</td>\n",
       "      <td>37.337391</td>\n",
       "      <td>-121.886995</td>\n",
       "      <td>237580</td>\n",
       "      <td>Subscriber</td>\n",
       "      <td>app</td>\n",
       "    </tr>\n",
       "    <tr>\n",
       "      <th>2</th>\n",
       "      <td>253</td>\n",
       "      <td>2020-03-15 18:51:36</td>\n",
       "      <td>2020-03-15 18:55:50</td>\n",
       "      <td>473.0</td>\n",
       "      <td>Willow St at Blewett Ave</td>\n",
       "      <td>37.309014</td>\n",
       "      <td>-121.900011</td>\n",
       "      <td>415.0</td>\n",
       "      <td>Delmas Ave at Virginia St</td>\n",
       "      <td>37.319757</td>\n",
       "      <td>-121.892999</td>\n",
       "      <td>239732</td>\n",
       "      <td>Subscriber</td>\n",
       "      <td>app</td>\n",
       "    </tr>\n",
       "    <tr>\n",
       "      <th>3</th>\n",
       "      <td>169</td>\n",
       "      <td>2020-03-31 15:20:10</td>\n",
       "      <td>2020-03-31 15:23:00</td>\n",
       "      <td>473.0</td>\n",
       "      <td>Willow St at Blewett Ave</td>\n",
       "      <td>37.309014</td>\n",
       "      <td>-121.900011</td>\n",
       "      <td>473.0</td>\n",
       "      <td>Willow St at Blewett Ave</td>\n",
       "      <td>37.309014</td>\n",
       "      <td>-121.900011</td>\n",
       "      <td>439978</td>\n",
       "      <td>Subscriber</td>\n",
       "      <td>app</td>\n",
       "    </tr>\n",
       "    <tr>\n",
       "      <th>4</th>\n",
       "      <td>623</td>\n",
       "      <td>2020-03-07 18:31:26</td>\n",
       "      <td>2020-03-07 18:41:50</td>\n",
       "      <td>473.0</td>\n",
       "      <td>Willow St at Blewett Ave</td>\n",
       "      <td>37.309014</td>\n",
       "      <td>-121.900011</td>\n",
       "      <td>406.0</td>\n",
       "      <td>Parkmoor Ave at Race St</td>\n",
       "      <td>37.316736</td>\n",
       "      <td>-121.910005</td>\n",
       "      <td>168502</td>\n",
       "      <td>Subscriber</td>\n",
       "      <td>app</td>\n",
       "    </tr>\n",
       "    <tr>\n",
       "      <th>...</th>\n",
       "      <td>...</td>\n",
       "      <td>...</td>\n",
       "      <td>...</td>\n",
       "      <td>...</td>\n",
       "      <td>...</td>\n",
       "      <td>...</td>\n",
       "      <td>...</td>\n",
       "      <td>...</td>\n",
       "      <td>...</td>\n",
       "      <td>...</td>\n",
       "      <td>...</td>\n",
       "      <td>...</td>\n",
       "      <td>...</td>\n",
       "      <td>...</td>\n",
       "    </tr>\n",
       "    <tr>\n",
       "      <th>29552</th>\n",
       "      <td>406</td>\n",
       "      <td>2020-03-15 16:47:10</td>\n",
       "      <td>2020-03-15 16:53:57</td>\n",
       "      <td>6.0</td>\n",
       "      <td>The Embarcadero at Sansome St</td>\n",
       "      <td>37.804770</td>\n",
       "      <td>-122.403234</td>\n",
       "      <td>11.0</td>\n",
       "      <td>Davis St at Jackson St</td>\n",
       "      <td>37.797280</td>\n",
       "      <td>-122.398436</td>\n",
       "      <td>181768</td>\n",
       "      <td>Subscriber</td>\n",
       "      <td>clipper</td>\n",
       "    </tr>\n",
       "    <tr>\n",
       "      <th>29553</th>\n",
       "      <td>284</td>\n",
       "      <td>2020-03-11 16:49:16</td>\n",
       "      <td>2020-03-11 16:54:00</td>\n",
       "      <td>6.0</td>\n",
       "      <td>The Embarcadero at Sansome St</td>\n",
       "      <td>37.804770</td>\n",
       "      <td>-122.403234</td>\n",
       "      <td>487.0</td>\n",
       "      <td>Powell St at Columbus Ave</td>\n",
       "      <td>37.800496</td>\n",
       "      <td>-122.410887</td>\n",
       "      <td>456827</td>\n",
       "      <td>Subscriber</td>\n",
       "      <td>app</td>\n",
       "    </tr>\n",
       "    <tr>\n",
       "      <th>29554</th>\n",
       "      <td>389</td>\n",
       "      <td>2020-03-06 13:30:22</td>\n",
       "      <td>2020-03-06 13:36:51</td>\n",
       "      <td>6.0</td>\n",
       "      <td>The Embarcadero at Sansome St</td>\n",
       "      <td>37.804770</td>\n",
       "      <td>-122.403234</td>\n",
       "      <td>15.0</td>\n",
       "      <td>San Francisco Ferry Building (Harry Bridges Pl...</td>\n",
       "      <td>37.795392</td>\n",
       "      <td>-122.394203</td>\n",
       "      <td>921888</td>\n",
       "      <td>Subscriber</td>\n",
       "      <td>app</td>\n",
       "    </tr>\n",
       "    <tr>\n",
       "      <th>29555</th>\n",
       "      <td>248</td>\n",
       "      <td>2020-03-03 10:13:41</td>\n",
       "      <td>2020-03-03 10:17:49</td>\n",
       "      <td>6.0</td>\n",
       "      <td>The Embarcadero at Sansome St</td>\n",
       "      <td>37.804770</td>\n",
       "      <td>-122.403234</td>\n",
       "      <td>15.0</td>\n",
       "      <td>San Francisco Ferry Building (Harry Bridges Pl...</td>\n",
       "      <td>37.795392</td>\n",
       "      <td>-122.394203</td>\n",
       "      <td>924766</td>\n",
       "      <td>Subscriber</td>\n",
       "      <td>app</td>\n",
       "    </tr>\n",
       "    <tr>\n",
       "      <th>29556</th>\n",
       "      <td>236</td>\n",
       "      <td>2020-03-04 10:55:46</td>\n",
       "      <td>2020-03-04 10:59:43</td>\n",
       "      <td>6.0</td>\n",
       "      <td>The Embarcadero at Sansome St</td>\n",
       "      <td>37.804770</td>\n",
       "      <td>-122.403234</td>\n",
       "      <td>15.0</td>\n",
       "      <td>San Francisco Ferry Building (Harry Bridges Pl...</td>\n",
       "      <td>37.795392</td>\n",
       "      <td>-122.394203</td>\n",
       "      <td>523483</td>\n",
       "      <td>Subscriber</td>\n",
       "      <td>app</td>\n",
       "    </tr>\n",
       "  </tbody>\n",
       "</table>\n",
       "<p>29557 rows × 14 columns</p>\n",
       "</div>"
      ],
      "text/plain": [
       "       duration_sec           start_time             end_time  \\\n",
       "0              1772  2020-03-31 15:23:58  2020-03-31 15:53:30   \n",
       "1               737  2020-03-26 16:24:05  2020-03-26 16:36:23   \n",
       "2               253  2020-03-15 18:51:36  2020-03-15 18:55:50   \n",
       "3               169  2020-03-31 15:20:10  2020-03-31 15:23:00   \n",
       "4               623  2020-03-07 18:31:26  2020-03-07 18:41:50   \n",
       "...             ...                  ...                  ...   \n",
       "29552           406  2020-03-15 16:47:10  2020-03-15 16:53:57   \n",
       "29553           284  2020-03-11 16:49:16  2020-03-11 16:54:00   \n",
       "29554           389  2020-03-06 13:30:22  2020-03-06 13:36:51   \n",
       "29555           248  2020-03-03 10:13:41  2020-03-03 10:17:49   \n",
       "29556           236  2020-03-04 10:55:46  2020-03-04 10:59:43   \n",
       "\n",
       "       start_station_id             start_station_name  \\\n",
       "0                 473.0       Willow St at Blewett Ave   \n",
       "1                 473.0       Willow St at Blewett Ave   \n",
       "2                 473.0       Willow St at Blewett Ave   \n",
       "3                 473.0       Willow St at Blewett Ave   \n",
       "4                 473.0       Willow St at Blewett Ave   \n",
       "...                 ...                            ...   \n",
       "29552               6.0  The Embarcadero at Sansome St   \n",
       "29553               6.0  The Embarcadero at Sansome St   \n",
       "29554               6.0  The Embarcadero at Sansome St   \n",
       "29555               6.0  The Embarcadero at Sansome St   \n",
       "29556               6.0  The Embarcadero at Sansome St   \n",
       "\n",
       "       start_station_latitude  start_station_longitude  end_station_id  \\\n",
       "0                   37.309014              -121.900011           473.0   \n",
       "1                   37.309014              -121.900011           309.0   \n",
       "2                   37.309014              -121.900011           415.0   \n",
       "3                   37.309014              -121.900011           473.0   \n",
       "4                   37.309014              -121.900011           406.0   \n",
       "...                       ...                      ...             ...   \n",
       "29552               37.804770              -122.403234            11.0   \n",
       "29553               37.804770              -122.403234           487.0   \n",
       "29554               37.804770              -122.403234            15.0   \n",
       "29555               37.804770              -122.403234            15.0   \n",
       "29556               37.804770              -122.403234            15.0   \n",
       "\n",
       "                                        end_station_name  \\\n",
       "0                               Willow St at Blewett Ave   \n",
       "1                                     San Jose City Hall   \n",
       "2                              Delmas Ave at Virginia St   \n",
       "3                               Willow St at Blewett Ave   \n",
       "4                                Parkmoor Ave at Race St   \n",
       "...                                                  ...   \n",
       "29552                             Davis St at Jackson St   \n",
       "29553                          Powell St at Columbus Ave   \n",
       "29554  San Francisco Ferry Building (Harry Bridges Pl...   \n",
       "29555  San Francisco Ferry Building (Harry Bridges Pl...   \n",
       "29556  San Francisco Ferry Building (Harry Bridges Pl...   \n",
       "\n",
       "       end_station_latitude  end_station_longitude  bike_id   user_type  \\\n",
       "0                 37.309014            -121.900011   480691  Subscriber   \n",
       "1                 37.337391            -121.886995   237580  Subscriber   \n",
       "2                 37.319757            -121.892999   239732  Subscriber   \n",
       "3                 37.309014            -121.900011   439978  Subscriber   \n",
       "4                 37.316736            -121.910005   168502  Subscriber   \n",
       "...                     ...                    ...      ...         ...   \n",
       "29552             37.797280            -122.398436   181768  Subscriber   \n",
       "29553             37.800496            -122.410887   456827  Subscriber   \n",
       "29554             37.795392            -122.394203   921888  Subscriber   \n",
       "29555             37.795392            -122.394203   924766  Subscriber   \n",
       "29556             37.795392            -122.394203   523483  Subscriber   \n",
       "\n",
       "      rental_access_method  \n",
       "0                      app  \n",
       "1                      app  \n",
       "2                      app  \n",
       "3                      app  \n",
       "4                      app  \n",
       "...                    ...  \n",
       "29552              clipper  \n",
       "29553                  app  \n",
       "29554                  app  \n",
       "29555                  app  \n",
       "29556                  app  \n",
       "\n",
       "[29557 rows x 14 columns]"
      ]
     },
     "execution_count": 12,
     "metadata": {},
     "output_type": "execute_result"
    }
   ],
   "source": [
    "df"
   ]
  },
  {
   "cell_type": "markdown",
   "metadata": {
    "slideshow": {
     "slide_type": "skip"
    }
   },
   "source": [
    "### Define\n",
    "start_station_id, end_station_id and bike_id should be of string datatype\n",
    "\n",
    "### Clean"
   ]
  },
  {
   "cell_type": "code",
   "execution_count": 13,
   "metadata": {
    "slideshow": {
     "slide_type": "skip"
    }
   },
   "outputs": [],
   "source": [
    "# using below written code I am converting the integer or float type (if any) values to string type for start_station_id, \n",
    "# end_station_id and bike_id\n",
    "\n",
    "df['start_station_id'] = df['start_station_id'].astype('int').astype('str')\n",
    "df['end_station_id'] = df['end_station_id'].astype('float').astype('int').astype('str')\n",
    "df['bike_id'] = df['bike_id'].astype('float').astype('int').astype('str')"
   ]
  },
  {
   "cell_type": "markdown",
   "metadata": {
    "slideshow": {
     "slide_type": "skip"
    }
   },
   "source": [
    "### Test"
   ]
  },
  {
   "cell_type": "markdown",
   "metadata": {
    "slideshow": {
     "slide_type": "skip"
    }
   },
   "source": [
    "I am using info function to varify that above conversion has been successfully carried out"
   ]
  },
  {
   "cell_type": "code",
   "execution_count": 14,
   "metadata": {
    "slideshow": {
     "slide_type": "skip"
    }
   },
   "outputs": [
    {
     "name": "stdout",
     "output_type": "stream",
     "text": [
      "<class 'pandas.core.frame.DataFrame'>\n",
      "RangeIndex: 29557 entries, 0 to 29556\n",
      "Data columns (total 14 columns):\n",
      " #   Column                   Non-Null Count  Dtype  \n",
      "---  ------                   --------------  -----  \n",
      " 0   duration_sec             29557 non-null  int64  \n",
      " 1   start_time               29557 non-null  object \n",
      " 2   end_time                 29557 non-null  object \n",
      " 3   start_station_id         29557 non-null  object \n",
      " 4   start_station_name       29557 non-null  object \n",
      " 5   start_station_latitude   29557 non-null  float64\n",
      " 6   start_station_longitude  29557 non-null  float64\n",
      " 7   end_station_id           29557 non-null  object \n",
      " 8   end_station_name         29557 non-null  object \n",
      " 9   end_station_latitude     29557 non-null  float64\n",
      " 10  end_station_longitude    29557 non-null  float64\n",
      " 11  bike_id                  29557 non-null  object \n",
      " 12  user_type                29557 non-null  object \n",
      " 13  rental_access_method     29557 non-null  object \n",
      "dtypes: float64(4), int64(1), object(9)\n",
      "memory usage: 3.2+ MB\n"
     ]
    }
   ],
   "source": [
    "df.info()"
   ]
  },
  {
   "cell_type": "markdown",
   "metadata": {
    "slideshow": {
     "slide_type": "skip"
    }
   },
   "source": [
    "## Define\n",
    "start_time and end_time should be of datetime format rather than strings"
   ]
  },
  {
   "cell_type": "markdown",
   "metadata": {
    "slideshow": {
     "slide_type": "skip"
    }
   },
   "source": [
    "Using to_datetime() pandas method I am converting start_time and end_time data to datetime format"
   ]
  },
  {
   "cell_type": "code",
   "execution_count": 15,
   "metadata": {
    "slideshow": {
     "slide_type": "skip"
    }
   },
   "outputs": [],
   "source": [
    "df['start_time'] = pd.to_datetime(df['start_time'])\n",
    "df['end_time'] = pd.to_datetime(df['end_time'])"
   ]
  },
  {
   "cell_type": "markdown",
   "metadata": {
    "slideshow": {
     "slide_type": "skip"
    }
   },
   "source": [
    "### Test"
   ]
  },
  {
   "cell_type": "code",
   "execution_count": 16,
   "metadata": {
    "slideshow": {
     "slide_type": "skip"
    }
   },
   "outputs": [
    {
     "data": {
      "text/html": [
       "<div>\n",
       "<style scoped>\n",
       "    .dataframe tbody tr th:only-of-type {\n",
       "        vertical-align: middle;\n",
       "    }\n",
       "\n",
       "    .dataframe tbody tr th {\n",
       "        vertical-align: top;\n",
       "    }\n",
       "\n",
       "    .dataframe thead th {\n",
       "        text-align: right;\n",
       "    }\n",
       "</style>\n",
       "<table border=\"1\" class=\"dataframe\">\n",
       "  <thead>\n",
       "    <tr style=\"text-align: right;\">\n",
       "      <th></th>\n",
       "      <th>start_time</th>\n",
       "      <th>end_time</th>\n",
       "    </tr>\n",
       "  </thead>\n",
       "  <tbody>\n",
       "    <tr>\n",
       "      <th>0</th>\n",
       "      <td>2020-03-31 15:23:58</td>\n",
       "      <td>2020-03-31 15:53:30</td>\n",
       "    </tr>\n",
       "    <tr>\n",
       "      <th>1</th>\n",
       "      <td>2020-03-26 16:24:05</td>\n",
       "      <td>2020-03-26 16:36:23</td>\n",
       "    </tr>\n",
       "    <tr>\n",
       "      <th>2</th>\n",
       "      <td>2020-03-15 18:51:36</td>\n",
       "      <td>2020-03-15 18:55:50</td>\n",
       "    </tr>\n",
       "    <tr>\n",
       "      <th>3</th>\n",
       "      <td>2020-03-31 15:20:10</td>\n",
       "      <td>2020-03-31 15:23:00</td>\n",
       "    </tr>\n",
       "    <tr>\n",
       "      <th>4</th>\n",
       "      <td>2020-03-07 18:31:26</td>\n",
       "      <td>2020-03-07 18:41:50</td>\n",
       "    </tr>\n",
       "  </tbody>\n",
       "</table>\n",
       "</div>"
      ],
      "text/plain": [
       "           start_time            end_time\n",
       "0 2020-03-31 15:23:58 2020-03-31 15:53:30\n",
       "1 2020-03-26 16:24:05 2020-03-26 16:36:23\n",
       "2 2020-03-15 18:51:36 2020-03-15 18:55:50\n",
       "3 2020-03-31 15:20:10 2020-03-31 15:23:00\n",
       "4 2020-03-07 18:31:26 2020-03-07 18:41:50"
      ]
     },
     "execution_count": 16,
     "metadata": {},
     "output_type": "execute_result"
    }
   ],
   "source": [
    "# Showing that above process(conversion to datetime) as successfully carried out\n",
    "df[['start_time', 'end_time']].head()"
   ]
  },
  {
   "cell_type": "markdown",
   "metadata": {
    "slideshow": {
     "slide_type": "skip"
    }
   },
   "source": [
    "## Define\n",
    "Add columns for the difference in latitude and longitude\n"
   ]
  },
  {
   "cell_type": "code",
   "execution_count": 17,
   "metadata": {
    "slideshow": {
     "slide_type": "skip"
    }
   },
   "outputs": [
    {
     "data": {
      "text/html": [
       "<div>\n",
       "<style scoped>\n",
       "    .dataframe tbody tr th:only-of-type {\n",
       "        vertical-align: middle;\n",
       "    }\n",
       "\n",
       "    .dataframe tbody tr th {\n",
       "        vertical-align: top;\n",
       "    }\n",
       "\n",
       "    .dataframe thead th {\n",
       "        text-align: right;\n",
       "    }\n",
       "</style>\n",
       "<table border=\"1\" class=\"dataframe\">\n",
       "  <thead>\n",
       "    <tr style=\"text-align: right;\">\n",
       "      <th></th>\n",
       "      <th>latitude_diff</th>\n",
       "      <th>longitude_diff</th>\n",
       "    </tr>\n",
       "  </thead>\n",
       "  <tbody>\n",
       "    <tr>\n",
       "      <th>0</th>\n",
       "      <td>0.000000</td>\n",
       "      <td>0.000000</td>\n",
       "    </tr>\n",
       "    <tr>\n",
       "      <th>1</th>\n",
       "      <td>-0.028377</td>\n",
       "      <td>-0.013016</td>\n",
       "    </tr>\n",
       "    <tr>\n",
       "      <th>2</th>\n",
       "      <td>-0.010743</td>\n",
       "      <td>-0.007011</td>\n",
       "    </tr>\n",
       "    <tr>\n",
       "      <th>3</th>\n",
       "      <td>0.000000</td>\n",
       "      <td>0.000000</td>\n",
       "    </tr>\n",
       "    <tr>\n",
       "      <th>4</th>\n",
       "      <td>-0.007722</td>\n",
       "      <td>0.009994</td>\n",
       "    </tr>\n",
       "  </tbody>\n",
       "</table>\n",
       "</div>"
      ],
      "text/plain": [
       "   latitude_diff  longitude_diff\n",
       "0       0.000000        0.000000\n",
       "1      -0.028377       -0.013016\n",
       "2      -0.010743       -0.007011\n",
       "3       0.000000        0.000000\n",
       "4      -0.007722        0.009994"
      ]
     },
     "execution_count": 17,
     "metadata": {},
     "output_type": "execute_result"
    }
   ],
   "source": [
    "# calculating the difference in the latitude and longitude of start point and end point\n",
    "\n",
    "df['latitude_diff'] = df['start_station_latitude'] - df['end_station_latitude']\n",
    "df['longitude_diff'] = df['start_station_longitude'] - df['end_station_longitude']\n",
    "\n",
    "\n",
    "df.head()[['latitude_diff', 'longitude_diff']]"
   ]
  },
  {
   "cell_type": "markdown",
   "metadata": {
    "slideshow": {
     "slide_type": "skip"
    }
   },
   "source": [
    "I am converting time duration from seconds to minutes and adding the duration_minutes column to the dataframe. Then I am extracting start date, hourofday, daysofweek and month from start_time and then adding their respective columns to the dataframe."
   ]
  },
  {
   "cell_type": "code",
   "execution_count": 18,
   "metadata": {
    "slideshow": {
     "slide_type": "skip"
    }
   },
   "outputs": [
    {
     "data": {
      "text/html": [
       "<div>\n",
       "<style scoped>\n",
       "    .dataframe tbody tr th:only-of-type {\n",
       "        vertical-align: middle;\n",
       "    }\n",
       "\n",
       "    .dataframe tbody tr th {\n",
       "        vertical-align: top;\n",
       "    }\n",
       "\n",
       "    .dataframe thead th {\n",
       "        text-align: right;\n",
       "    }\n",
       "</style>\n",
       "<table border=\"1\" class=\"dataframe\">\n",
       "  <thead>\n",
       "    <tr style=\"text-align: right;\">\n",
       "      <th></th>\n",
       "      <th>duration_sec</th>\n",
       "      <th>start_time</th>\n",
       "      <th>end_time</th>\n",
       "      <th>start_station_id</th>\n",
       "      <th>start_station_name</th>\n",
       "      <th>start_station_latitude</th>\n",
       "      <th>start_station_longitude</th>\n",
       "      <th>end_station_id</th>\n",
       "      <th>end_station_name</th>\n",
       "      <th>end_station_latitude</th>\n",
       "      <th>...</th>\n",
       "      <th>bike_id</th>\n",
       "      <th>user_type</th>\n",
       "      <th>rental_access_method</th>\n",
       "      <th>latitude_diff</th>\n",
       "      <th>longitude_diff</th>\n",
       "      <th>duration_minute</th>\n",
       "      <th>start_date</th>\n",
       "      <th>start_hourofday</th>\n",
       "      <th>start_dayofweek</th>\n",
       "      <th>start_month</th>\n",
       "    </tr>\n",
       "  </thead>\n",
       "  <tbody>\n",
       "    <tr>\n",
       "      <th>0</th>\n",
       "      <td>1772</td>\n",
       "      <td>2020-03-31 15:23:58</td>\n",
       "      <td>2020-03-31 15:53:30</td>\n",
       "      <td>473</td>\n",
       "      <td>Willow St at Blewett Ave</td>\n",
       "      <td>37.309014</td>\n",
       "      <td>-121.900011</td>\n",
       "      <td>473</td>\n",
       "      <td>Willow St at Blewett Ave</td>\n",
       "      <td>37.309014</td>\n",
       "      <td>...</td>\n",
       "      <td>480691</td>\n",
       "      <td>Subscriber</td>\n",
       "      <td>app</td>\n",
       "      <td>0.000000</td>\n",
       "      <td>0.000000</td>\n",
       "      <td>29.533333</td>\n",
       "      <td>2020-03-31</td>\n",
       "      <td>15</td>\n",
       "      <td>Tuesday</td>\n",
       "      <td>March</td>\n",
       "    </tr>\n",
       "    <tr>\n",
       "      <th>1</th>\n",
       "      <td>737</td>\n",
       "      <td>2020-03-26 16:24:05</td>\n",
       "      <td>2020-03-26 16:36:23</td>\n",
       "      <td>473</td>\n",
       "      <td>Willow St at Blewett Ave</td>\n",
       "      <td>37.309014</td>\n",
       "      <td>-121.900011</td>\n",
       "      <td>309</td>\n",
       "      <td>San Jose City Hall</td>\n",
       "      <td>37.337391</td>\n",
       "      <td>...</td>\n",
       "      <td>237580</td>\n",
       "      <td>Subscriber</td>\n",
       "      <td>app</td>\n",
       "      <td>-0.028377</td>\n",
       "      <td>-0.013016</td>\n",
       "      <td>12.283333</td>\n",
       "      <td>2020-03-26</td>\n",
       "      <td>16</td>\n",
       "      <td>Thursday</td>\n",
       "      <td>March</td>\n",
       "    </tr>\n",
       "    <tr>\n",
       "      <th>2</th>\n",
       "      <td>253</td>\n",
       "      <td>2020-03-15 18:51:36</td>\n",
       "      <td>2020-03-15 18:55:50</td>\n",
       "      <td>473</td>\n",
       "      <td>Willow St at Blewett Ave</td>\n",
       "      <td>37.309014</td>\n",
       "      <td>-121.900011</td>\n",
       "      <td>415</td>\n",
       "      <td>Delmas Ave at Virginia St</td>\n",
       "      <td>37.319757</td>\n",
       "      <td>...</td>\n",
       "      <td>239732</td>\n",
       "      <td>Subscriber</td>\n",
       "      <td>app</td>\n",
       "      <td>-0.010743</td>\n",
       "      <td>-0.007011</td>\n",
       "      <td>4.216667</td>\n",
       "      <td>2020-03-15</td>\n",
       "      <td>18</td>\n",
       "      <td>Sunday</td>\n",
       "      <td>March</td>\n",
       "    </tr>\n",
       "    <tr>\n",
       "      <th>3</th>\n",
       "      <td>169</td>\n",
       "      <td>2020-03-31 15:20:10</td>\n",
       "      <td>2020-03-31 15:23:00</td>\n",
       "      <td>473</td>\n",
       "      <td>Willow St at Blewett Ave</td>\n",
       "      <td>37.309014</td>\n",
       "      <td>-121.900011</td>\n",
       "      <td>473</td>\n",
       "      <td>Willow St at Blewett Ave</td>\n",
       "      <td>37.309014</td>\n",
       "      <td>...</td>\n",
       "      <td>439978</td>\n",
       "      <td>Subscriber</td>\n",
       "      <td>app</td>\n",
       "      <td>0.000000</td>\n",
       "      <td>0.000000</td>\n",
       "      <td>2.816667</td>\n",
       "      <td>2020-03-31</td>\n",
       "      <td>15</td>\n",
       "      <td>Tuesday</td>\n",
       "      <td>March</td>\n",
       "    </tr>\n",
       "    <tr>\n",
       "      <th>4</th>\n",
       "      <td>623</td>\n",
       "      <td>2020-03-07 18:31:26</td>\n",
       "      <td>2020-03-07 18:41:50</td>\n",
       "      <td>473</td>\n",
       "      <td>Willow St at Blewett Ave</td>\n",
       "      <td>37.309014</td>\n",
       "      <td>-121.900011</td>\n",
       "      <td>406</td>\n",
       "      <td>Parkmoor Ave at Race St</td>\n",
       "      <td>37.316736</td>\n",
       "      <td>...</td>\n",
       "      <td>168502</td>\n",
       "      <td>Subscriber</td>\n",
       "      <td>app</td>\n",
       "      <td>-0.007722</td>\n",
       "      <td>0.009994</td>\n",
       "      <td>10.383333</td>\n",
       "      <td>2020-03-07</td>\n",
       "      <td>18</td>\n",
       "      <td>Saturday</td>\n",
       "      <td>March</td>\n",
       "    </tr>\n",
       "  </tbody>\n",
       "</table>\n",
       "<p>5 rows × 21 columns</p>\n",
       "</div>"
      ],
      "text/plain": [
       "   duration_sec          start_time            end_time start_station_id  \\\n",
       "0          1772 2020-03-31 15:23:58 2020-03-31 15:53:30              473   \n",
       "1           737 2020-03-26 16:24:05 2020-03-26 16:36:23              473   \n",
       "2           253 2020-03-15 18:51:36 2020-03-15 18:55:50              473   \n",
       "3           169 2020-03-31 15:20:10 2020-03-31 15:23:00              473   \n",
       "4           623 2020-03-07 18:31:26 2020-03-07 18:41:50              473   \n",
       "\n",
       "         start_station_name  start_station_latitude  start_station_longitude  \\\n",
       "0  Willow St at Blewett Ave               37.309014              -121.900011   \n",
       "1  Willow St at Blewett Ave               37.309014              -121.900011   \n",
       "2  Willow St at Blewett Ave               37.309014              -121.900011   \n",
       "3  Willow St at Blewett Ave               37.309014              -121.900011   \n",
       "4  Willow St at Blewett Ave               37.309014              -121.900011   \n",
       "\n",
       "  end_station_id           end_station_name  end_station_latitude  ...  \\\n",
       "0            473   Willow St at Blewett Ave             37.309014  ...   \n",
       "1            309         San Jose City Hall             37.337391  ...   \n",
       "2            415  Delmas Ave at Virginia St             37.319757  ...   \n",
       "3            473   Willow St at Blewett Ave             37.309014  ...   \n",
       "4            406    Parkmoor Ave at Race St             37.316736  ...   \n",
       "\n",
       "   bike_id   user_type rental_access_method latitude_diff  longitude_diff  \\\n",
       "0   480691  Subscriber                  app      0.000000        0.000000   \n",
       "1   237580  Subscriber                  app     -0.028377       -0.013016   \n",
       "2   239732  Subscriber                  app     -0.010743       -0.007011   \n",
       "3   439978  Subscriber                  app      0.000000        0.000000   \n",
       "4   168502  Subscriber                  app     -0.007722        0.009994   \n",
       "\n",
       "   duration_minute  start_date start_hourofday start_dayofweek start_month  \n",
       "0        29.533333  2020-03-31              15         Tuesday       March  \n",
       "1        12.283333  2020-03-26              16        Thursday       March  \n",
       "2         4.216667  2020-03-15              18          Sunday       March  \n",
       "3         2.816667  2020-03-31              15         Tuesday       March  \n",
       "4        10.383333  2020-03-07              18        Saturday       March  \n",
       "\n",
       "[5 rows x 21 columns]"
      ]
     },
     "execution_count": 18,
     "metadata": {},
     "output_type": "execute_result"
    }
   ],
   "source": [
    "df['duration_minute'] = df['duration_sec']/60\n",
    "\n",
    "df['start_date'] = df.start_time.dt.strftime('%Y-%m-%d')\n",
    "df['start_hourofday'] = df.start_time.dt.strftime('%H')\n",
    "df['start_dayofweek'] = df.start_time.dt.strftime('%A')\n",
    "df['start_month'] = df.start_time.dt.strftime('%B')\n",
    "\n",
    "df.head()"
   ]
  },
  {
   "cell_type": "markdown",
   "metadata": {
    "slideshow": {
     "slide_type": "skip"
    }
   },
   "source": [
    "## Univariate Exploration\n",
    "### A series of plots to first explore the trips distribution over hour-of-day, day-of-week and month."
   ]
  },
  {
   "cell_type": "code",
   "execution_count": 19,
   "metadata": {
    "slideshow": {
     "slide_type": "skip"
    }
   },
   "outputs": [
    {
     "data": {
      "image/png": "[encoded data removed]",
      "text/plain": [
       "<Figure size 432x288 with 1 Axes>"
      ]
     },
     "metadata": {
      "needs_background": "light"
     },
     "output_type": "display_data"
    }
   ],
   "source": [
    "weekday = ['Monday', 'Tuesday', 'Wednesday', 'Thursday', 'Friday', 'Saturday', 'Sunday']\n",
    "weekdaycat = pd.api.types.CategoricalDtype(ordered=True, categories=weekday)\n",
    "df['start_dayofweek'] = df['start_dayofweek'].astype(weekdaycat)\n",
    "\n",
    "sb.countplot(data=df, x='start_dayofweek',color=sb.color_palette()[0]);\n",
    "plt.xlabel('Trip Start Day of Week');\n",
    "plt.ylabel('Count');\n",
    "\n",
    "# Wednesday has the highest number of trips starting days"
   ]
  },
  {
   "cell_type": "markdown",
   "metadata": {
    "slideshow": {
     "slide_type": "skip"
    }
   },
   "source": [
    "### Wednesday has the highest no of trip starting days"
   ]
  },
  {
   "cell_type": "code",
   "execution_count": 20,
   "metadata": {
    "slideshow": {
     "slide_type": "skip"
    }
   },
   "outputs": [
    {
     "data": {
      "image/png": "[encoded data removed]",
      "text/plain": [
       "<Figure size 432x288 with 1 Axes>"
      ]
     },
     "metadata": {
      "needs_background": "light"
     },
     "output_type": "display_data"
    }
   ],
   "source": [
    "\n",
    "base_color=sb.color_palette()[0]\n",
    "sb.countplot(data=df, x='start_hourofday',color=base_color);\n",
    "plt.xlabel('Trip Start Hour of Day');\n",
    "plt.ylabel('Count');\n",
    "\n",
    "#17 hours of day is highest"
   ]
  },
  {
   "cell_type": "markdown",
   "metadata": {
    "slideshow": {
     "slide_type": "skip"
    }
   },
   "source": [
    "#### 17 hour of day is highest"
   ]
  },
  {
   "cell_type": "markdown",
   "metadata": {
    "slideshow": {
     "slide_type": "skip"
    }
   },
   "source": [
    "## Looking for most common/popular starting stations"
   ]
  },
  {
   "cell_type": "code",
   "execution_count": 21,
   "metadata": {
    "slideshow": {
     "slide_type": "skip"
    }
   },
   "outputs": [
    {
     "data": {
      "image/png": "[encoded data removed]",
      "text/plain": [
       "<Figure size 432x288 with 1 Axes>"
      ]
     },
     "metadata": {
      "needs_background": "light"
     },
     "output_type": "display_data"
    }
   ],
   "source": [
    "neighbourhood_counts = df['start_station_name'].value_counts()\n",
    "neighbourhood_order = neighbourhood_counts.index\n",
    "sb.countplot(data = df, y = 'start_station_name', order = neighbourhood_order[:10], color=base_color)\n",
    "plt.xlabel('No of trips')\n",
    "plt.ylabel('Name of start station')\n",
    "plt.title('Top 10 most common start stations');\n",
    "\n",
    "#San Francisco Caltrain is the most popular starting station"
   ]
  },
  {
   "cell_type": "markdown",
   "metadata": {
    "slideshow": {
     "slide_type": "skip"
    }
   },
   "source": [
    "San Francisco Caltrain is the most popular starting station"
   ]
  },
  {
   "cell_type": "markdown",
   "metadata": {
    "slideshow": {
     "slide_type": "skip"
    }
   },
   "source": [
    "## Looking for least common/popular starting stations"
   ]
  },
  {
   "cell_type": "code",
   "execution_count": 22,
   "metadata": {
    "slideshow": {
     "slide_type": "skip"
    }
   },
   "outputs": [
    {
     "data": {
      "image/png": "[encoded data removed]",
      "text/plain": [
       "<Figure size 432x288 with 1 Axes>"
      ]
     },
     "metadata": {
      "needs_background": "light"
     },
     "output_type": "display_data"
    }
   ],
   "source": [
    "neighbourhood_counts = df['start_station_name'].value_counts()\n",
    "neighbourhood_order = neighbourhood_counts.index\n",
    "sb.countplot(data = df, y = 'start_station_name', order = neighbourhood_order[-20:], color=base_color)\n",
    "plt.xlabel('No of trips')\n",
    "plt.ylabel('Name of start station')\n",
    "plt.title('Top 10 least common start stations');\n",
    "x_labels = np.arange(0, 19, 2)\n",
    "plt.xticks(x_labels, x_labels);\n",
    "\n",
    "#Bird Ave at Willow st is the least popular starting station"
   ]
  },
  {
   "cell_type": "markdown",
   "metadata": {
    "slideshow": {
     "slide_type": "skip"
    }
   },
   "source": [
    "#### Bird Ave at Willow st is the least popular starting station"
   ]
  },
  {
   "cell_type": "markdown",
   "metadata": {
    "slideshow": {
     "slide_type": "skip"
    }
   },
   "source": [
    "## Looking for most popular ending station"
   ]
  },
  {
   "cell_type": "code",
   "execution_count": 23,
   "metadata": {
    "slideshow": {
     "slide_type": "skip"
    }
   },
   "outputs": [
    {
     "data": {
      "image/png": "[encoded data removed]",
      "text/plain": [
       "<Figure size 432x288 with 1 Axes>"
      ]
     },
     "metadata": {
      "needs_background": "light"
     },
     "output_type": "display_data"
    }
   ],
   "source": [
    "neighbourhood_counts = df['end_station_name'].value_counts()\n",
    "neighbourhood_order = neighbourhood_counts.index\n",
    "sb.countplot(data = df, y = 'end_station_name', order = neighbourhood_order[:10], color=base_color)\n",
    "plt.xlabel('No of trips')\n",
    "plt.ylabel('Name of end station')\n",
    "plt.title('Top 10 most common end stations');\n",
    "\n",
    "#San Francisco Caltrain is the most popular ending station"
   ]
  },
  {
   "cell_type": "markdown",
   "metadata": {
    "slideshow": {
     "slide_type": "skip"
    }
   },
   "source": [
    "#### San Francisco Caltrain is the most popular ending station"
   ]
  },
  {
   "cell_type": "markdown",
   "metadata": {
    "slideshow": {
     "slide_type": "skip"
    }
   },
   "source": [
    "## Looking for least common/popular ending stations"
   ]
  },
  {
   "cell_type": "code",
   "execution_count": 24,
   "metadata": {
    "slideshow": {
     "slide_type": "slide"
    }
   },
   "outputs": [
    {
     "data": {
      "image/png": "[encoded data removed]",
      "text/plain": [
       "<Figure size 432x288 with 1 Axes>"
      ]
     },
     "metadata": {
      "needs_background": "light"
     },
     "output_type": "display_data"
    }
   ],
   "source": [
    "# Univariate Exploration\n",
    "# A series of plots to first explore the trips distribution over hour-of-day, day-of-week and month.\n",
    "\n",
    "neighbourhood_counts = df['end_station_name'].value_counts()\n",
    "neighbourhood_order = neighbourhood_counts.index\n",
    "sb.countplot(data = df, y = 'end_station_name', order = neighbourhood_order[-20:], color=base_color)\n",
    "plt.xlabel('No of trips')\n",
    "plt.ylabel('Name of end station')\n",
    "plt.title('Top 10 least common end stations');\n",
    "\n",
    "#23rd St at Taylor St is the least popuar ending station"
   ]
  },
  {
   "cell_type": "markdown",
   "metadata": {
    "slideshow": {
     "slide_type": "skip"
    }
   },
   "source": [
    "23rd St at Taylor St is the least popuar ending station"
   ]
  },
  {
   "cell_type": "markdown",
   "metadata": {
    "slideshow": {
     "slide_type": "skip"
    }
   },
   "source": [
    "## Ploting graph to find maximum trip duration"
   ]
  },
  {
   "cell_type": "code",
   "execution_count": 25,
   "metadata": {
    "slideshow": {
     "slide_type": "slide"
    }
   },
   "outputs": [
    {
     "data": {
      "image/png": "[encoded data removed]",
      "text/plain": [
       "<Figure size 432x288 with 1 Axes>"
      ]
     },
     "metadata": {
      "needs_background": "light"
     },
     "output_type": "display_data"
    }
   ],
   "source": [
    "# Ploting graph to find maximum trip duration\n",
    "\n",
    "bins = np.arange(0, 66, 1)\n",
    "ticks = np.arange(0, 66, 5)\n",
    "plt.hist(data=df, x='duration_minute', bins=bins);\n",
    "plt.xticks(ticks, ticks);\n",
    "plt.xlabel('Trip Duration in Minute');\n",
    "\n",
    "# no of counts  for 10 min trip duration is highest that is above 2000"
   ]
  },
  {
   "cell_type": "markdown",
   "metadata": {
    "slideshow": {
     "slide_type": "skip"
    }
   },
   "source": [
    "#### no of counts  for 10 min trip duration is highest that is above 2000"
   ]
  },
  {
   "cell_type": "markdown",
   "metadata": {
    "slideshow": {
     "slide_type": "skip"
    }
   },
   "source": [
    "## Bivariate Exploration\n",
    "\n",
    "How does the trip duration distribution vary between customers and subscribers?"
   ]
  },
  {
   "cell_type": "code",
   "execution_count": 26,
   "metadata": {
    "slideshow": {
     "slide_type": "slide"
    }
   },
   "outputs": [
    {
     "data": {
      "image/png": "[encoded data removed]",
      "text/plain": [
       "<Figure size 432x288 with 1 Axes>"
      ]
     },
     "metadata": {
      "needs_background": "light"
     },
     "output_type": "display_data"
    }
   ],
   "source": [
    "# Bivariate Exploration\n",
    "# Trip duration vs customers/subscribers\n",
    "\n",
    "sb.violinplot(data=df, x='user_type', y='duration_minute', color=base_color, inner='quartile');\n",
    "plt.xlabel('User Type');\n",
    "plt.ylabel('Trip Duration in Minute');"
   ]
  },
  {
   "cell_type": "markdown",
   "metadata": {
    "slideshow": {
     "slide_type": "skip"
    }
   },
   "source": [
    "### Average Trip Duration on Weekdays"
   ]
  },
  {
   "cell_type": "code",
   "execution_count": 27,
   "metadata": {
    "slideshow": {
     "slide_type": "slide"
    }
   },
   "outputs": [
    {
     "data": {
      "image/png": "[encoded data removed]",
      "text/plain": [
       "<Figure size 432x288 with 1 Axes>"
      ]
     },
     "metadata": {
      "needs_background": "light"
     },
     "output_type": "display_data"
    }
   ],
   "source": [
    "# Below code for barplot a bar graph for average trip duration against day of week\n",
    "\n",
    "sb.barplot(data=df, x='start_dayofweek', y='duration_minute', color=base_color);\n",
    "plt.xlabel('Day of Week');\n",
    "plt.ylabel('Avg. Trip Duration in Minute');\n",
    "\n",
    "# Some graph it is clear that sunday has the highest trip duration"
   ]
  },
  {
   "cell_type": "markdown",
   "metadata": {
    "slideshow": {
     "slide_type": "skip"
    }
   },
   "source": [
    "#### Sunday has the highest trip duration"
   ]
  },
  {
   "cell_type": "markdown",
   "metadata": {
    "slideshow": {
     "slide_type": "skip"
    }
   },
   "source": [
    "Weekly usage between customers and subscribers"
   ]
  },
  {
   "cell_type": "code",
   "execution_count": 28,
   "metadata": {
    "slideshow": {
     "slide_type": "slide"
    }
   },
   "outputs": [
    {
     "data": {
      "image/png": "[encoded data removed]",
      "text/plain": [
       "<Figure size 432x288 with 1 Axes>"
      ]
     },
     "metadata": {
      "needs_background": "light"
     },
     "output_type": "display_data"
    }
   ],
   "source": [
    "# Countplot shoes the count of subscribers/customers against week days\n",
    "\n",
    "sb.countplot(data=df, x='start_dayofweek', hue='user_type');\n",
    "plt.xlabel('Day of Week');\n",
    "plt.ylabel('Count');\n",
    "\n",
    "# Wednesday has the highest for both subscriber and customer"
   ]
  },
  {
   "cell_type": "markdown",
   "metadata": {
    "slideshow": {
     "slide_type": "skip"
    }
   },
   "source": [
    "#### Wednesday has the highest for both subscriber and customer"
   ]
  },
  {
   "cell_type": "markdown",
   "metadata": {
    "slideshow": {
     "slide_type": "skip"
    }
   },
   "source": [
    "## Multivariate Exploration\n",
    "\n",
    "### How does the average trip duration vary in weekdays between customers and subscribers?"
   ]
  },
  {
   "cell_type": "markdown",
   "metadata": {
    "slideshow": {
     "slide_type": "skip"
    }
   },
   "source": [
    "#### Using Pointplot graph to visualize avearge trip duration for customers and subscribers"
   ]
  },
  {
   "cell_type": "code",
   "execution_count": 29,
   "metadata": {
    "scrolled": true,
    "slideshow": {
     "slide_type": "slide"
    }
   },
   "outputs": [
    {
     "data": {
      "image/png": "[encoded data removed]",
      "text/plain": [
       "<Figure size 432x288 with 1 Axes>"
      ]
     },
     "metadata": {
      "needs_background": "light"
     },
     "output_type": "display_data"
    }
   ],
   "source": [
    "# Multivariate Exploration\n",
    "\n",
    "# Using point plot to make estimate of central tendency for a trip duartion(in minutes) by the position of scatter plot points\n",
    "# and provides some indication of the uncertainty around that estimate using error bars\n",
    "\n",
    "sb.pointplot(data=df, x='start_dayofweek', y='duration_minute', hue='user_type', dodge=0.3, linestyles=\"\");\n",
    "plt.xlabel('Day of Week');\n",
    "plt.ylabel('Avg. Trip Duration in Minute');"
   ]
  },
  {
   "cell_type": "markdown",
   "metadata": {
    "slideshow": {
     "slide_type": "skip"
    }
   },
   "source": [
    "### How does the hourly usage vary during weekdays for customers and subscribers?"
   ]
  },
  {
   "cell_type": "markdown",
   "metadata": {
    "slideshow": {
     "slide_type": "skip"
    }
   },
   "source": [
    "#### I am plotting heatmap to visualize relation between hourly usage during weekdays for cusomers as well as for subsriber"
   ]
  },
  {
   "cell_type": "code",
   "execution_count": 42,
   "metadata": {
    "slideshow": {
     "slide_type": "slide"
    }
   },
   "outputs": [
    {
     "data": {
      "image/png": "[encoded data removed]",
      "text/plain": [
       "<Figure size 576x576 with 4 Axes>"
      ]
     },
     "metadata": {
      "needs_background": "light"
     },
     "output_type": "display_data"
    }
   ],
   "source": [
    "# I am plotting heatmap to visualize relation between hourly usage during weekdays for customers as well as subscribers\n",
    "\n",
    "plt.figure(figsize=[8, 8]);\n",
    "plt.suptitle('Hourly Usage during Weekdays for Customers and Subscribers')\n",
    "\n",
    "# Making heatmap for customers\n",
    "\n",
    "plt.subplot(2, 1, 1)\n",
    "customers = df.query('user_type == \"Customer\"')\n",
    "ct_counts = customers.groupby(['start_dayofweek', 'start_hourofday']).size()\n",
    "ct_counts = ct_counts.reset_index(name='count')\n",
    "ct_counts = ct_counts.pivot(index='start_dayofweek', columns='start_hourofday', values='count')\n",
    "sb.heatmap(ct_counts, cmap='rocket_r');\n",
    "plt.title('Customer', loc='right');\n",
    "plt.xlabel('Hour of Day');\n",
    "plt.ylabel('Day of Week');\n",
    "\n",
    "# Making heatmap for Subscribers\n",
    "\n",
    "plt.subplot(2, 1, 2)\n",
    "subscribers = df.query('user_type == \"Subscriber\"')\n",
    "st_counts = subscribers.groupby(['start_dayofweek', 'start_hourofday']).size()\n",
    "st_counts = st_counts.reset_index(name='count')\n",
    "st_counts = st_counts.pivot(index='start_dayofweek', columns='start_hourofday', values='count')\n",
    "sb.heatmap(st_counts, cmap='rocket_r');\n",
    "plt.title('Subscriber', loc='right');\n",
    "plt.xlabel('Hour of Day');\n",
    "plt.ylabel('Day of Week');"
   ]
  },
  {
   "cell_type": "code",
   "execution_count": null,
   "metadata": {},
   "outputs": [],
   "source": []
  }
 ],
 "metadata": {
  "celltoolbar": "Slideshow",
  "kernelspec": {
   "display_name": "Python 3",
   "language": "python",
   "name": "python3"
  },
  "language_info": {
   "codemirror_mode": {
    "name": "ipython",
    "version": 3
   },
   "file_extension": ".py",
   "mimetype": "text/x-python",
   "name": "python",
   "nbconvert_exporter": "python",
   "pygments_lexer": "ipython3",
   "version": "3.7.6"
  }
 },
 "nbformat": 4,
 "nbformat_minor": 2
}
